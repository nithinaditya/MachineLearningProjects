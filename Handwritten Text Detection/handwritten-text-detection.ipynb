{
 "cells": [
  {
   "cell_type": "code",
   "execution_count": 1,
   "id": "247cf394",
   "metadata": {
    "_cell_guid": "b1076dfc-b9ad-4769-8c92-a6c4dae69d19",
    "_uuid": "8f2839f25d086af736a60e9eeb907d3b93b6e0e5",
    "execution": {
     "iopub.execute_input": "2022-08-24T13:27:45.298792Z",
     "iopub.status.busy": "2022-08-24T13:27:45.296406Z",
     "iopub.status.idle": "2022-08-24T13:27:53.156896Z",
     "shell.execute_reply": "2022-08-24T13:27:53.156148Z",
     "shell.execute_reply.started": "2022-08-24T12:48:28.617674Z"
    },
    "papermill": {
     "duration": 7.894114,
     "end_time": "2022-08-24T13:27:53.157127",
     "exception": false,
     "start_time": "2022-08-24T13:27:45.263013",
     "status": "completed"
    },
    "tags": []
   },
   "outputs": [],
   "source": [
    "import tensorflow as ts\n",
    "import numpy as np\n",
    "import pandas as pd\n",
    "import matplotlib.pyplot as plt\n",
    "import seaborn as sns\n",
    "\n",
    "import os\n",
    "from keras.models import Sequential\n",
    "from keras.layers import Dense, Flatten, Dropout\n",
    "from keras.layers.convolutional import Conv2D, MaxPooling2D\n",
    "\n",
    "sns.set()"
   ]
  },
  {
   "cell_type": "code",
   "execution_count": 2,
   "id": "c0f28708",
   "metadata": {
    "execution": {
     "iopub.execute_input": "2022-08-24T13:27:53.210448Z",
     "iopub.status.busy": "2022-08-24T13:27:53.209666Z",
     "iopub.status.idle": "2022-08-24T13:28:37.194747Z",
     "shell.execute_reply": "2022-08-24T13:28:37.195448Z",
     "shell.execute_reply.started": "2022-08-24T12:48:35.765978Z"
    },
    "papermill": {
     "duration": 44.014544,
     "end_time": "2022-08-24T13:28:37.195865",
     "exception": false,
     "start_time": "2022-08-24T13:27:53.181321",
     "status": "completed"
    },
    "tags": []
   },
   "outputs": [
    {
     "data": {
      "text/html": [
       "<div>\n",
       "<style scoped>\n",
       "    .dataframe tbody tr th:only-of-type {\n",
       "        vertical-align: middle;\n",
       "    }\n",
       "\n",
       "    .dataframe tbody tr th {\n",
       "        vertical-align: top;\n",
       "    }\n",
       "\n",
       "    .dataframe thead th {\n",
       "        text-align: right;\n",
       "    }\n",
       "</style>\n",
       "<table border=\"1\" class=\"dataframe\">\n",
       "  <thead>\n",
       "    <tr style=\"text-align: right;\">\n",
       "      <th></th>\n",
       "      <th>0</th>\n",
       "      <th>0.1</th>\n",
       "      <th>0.2</th>\n",
       "      <th>0.3</th>\n",
       "      <th>0.4</th>\n",
       "      <th>0.5</th>\n",
       "      <th>0.6</th>\n",
       "      <th>0.7</th>\n",
       "      <th>0.8</th>\n",
       "      <th>0.9</th>\n",
       "      <th>...</th>\n",
       "      <th>0.639</th>\n",
       "      <th>0.640</th>\n",
       "      <th>0.641</th>\n",
       "      <th>0.642</th>\n",
       "      <th>0.643</th>\n",
       "      <th>0.644</th>\n",
       "      <th>0.645</th>\n",
       "      <th>0.646</th>\n",
       "      <th>0.647</th>\n",
       "      <th>0.648</th>\n",
       "    </tr>\n",
       "  </thead>\n",
       "  <tbody>\n",
       "    <tr>\n",
       "      <th>0</th>\n",
       "      <td>0.0</td>\n",
       "      <td>0.0</td>\n",
       "      <td>0.0</td>\n",
       "      <td>0.0</td>\n",
       "      <td>0.0</td>\n",
       "      <td>0.0</td>\n",
       "      <td>0.0</td>\n",
       "      <td>0.0</td>\n",
       "      <td>0.0</td>\n",
       "      <td>0.0</td>\n",
       "      <td>...</td>\n",
       "      <td>0.0</td>\n",
       "      <td>0.0</td>\n",
       "      <td>0.0</td>\n",
       "      <td>0.0</td>\n",
       "      <td>0.0</td>\n",
       "      <td>0.0</td>\n",
       "      <td>0.0</td>\n",
       "      <td>0.0</td>\n",
       "      <td>0.0</td>\n",
       "      <td>0.0</td>\n",
       "    </tr>\n",
       "    <tr>\n",
       "      <th>1</th>\n",
       "      <td>0.0</td>\n",
       "      <td>0.0</td>\n",
       "      <td>0.0</td>\n",
       "      <td>0.0</td>\n",
       "      <td>0.0</td>\n",
       "      <td>0.0</td>\n",
       "      <td>0.0</td>\n",
       "      <td>0.0</td>\n",
       "      <td>0.0</td>\n",
       "      <td>0.0</td>\n",
       "      <td>...</td>\n",
       "      <td>0.0</td>\n",
       "      <td>0.0</td>\n",
       "      <td>0.0</td>\n",
       "      <td>0.0</td>\n",
       "      <td>0.0</td>\n",
       "      <td>0.0</td>\n",
       "      <td>0.0</td>\n",
       "      <td>0.0</td>\n",
       "      <td>0.0</td>\n",
       "      <td>0.0</td>\n",
       "    </tr>\n",
       "    <tr>\n",
       "      <th>2</th>\n",
       "      <td>0.0</td>\n",
       "      <td>0.0</td>\n",
       "      <td>0.0</td>\n",
       "      <td>0.0</td>\n",
       "      <td>0.0</td>\n",
       "      <td>0.0</td>\n",
       "      <td>0.0</td>\n",
       "      <td>0.0</td>\n",
       "      <td>0.0</td>\n",
       "      <td>0.0</td>\n",
       "      <td>...</td>\n",
       "      <td>0.0</td>\n",
       "      <td>0.0</td>\n",
       "      <td>0.0</td>\n",
       "      <td>0.0</td>\n",
       "      <td>0.0</td>\n",
       "      <td>0.0</td>\n",
       "      <td>0.0</td>\n",
       "      <td>0.0</td>\n",
       "      <td>0.0</td>\n",
       "      <td>0.0</td>\n",
       "    </tr>\n",
       "    <tr>\n",
       "      <th>3</th>\n",
       "      <td>0.0</td>\n",
       "      <td>0.0</td>\n",
       "      <td>0.0</td>\n",
       "      <td>0.0</td>\n",
       "      <td>0.0</td>\n",
       "      <td>0.0</td>\n",
       "      <td>0.0</td>\n",
       "      <td>0.0</td>\n",
       "      <td>0.0</td>\n",
       "      <td>0.0</td>\n",
       "      <td>...</td>\n",
       "      <td>0.0</td>\n",
       "      <td>0.0</td>\n",
       "      <td>0.0</td>\n",
       "      <td>0.0</td>\n",
       "      <td>0.0</td>\n",
       "      <td>0.0</td>\n",
       "      <td>0.0</td>\n",
       "      <td>0.0</td>\n",
       "      <td>0.0</td>\n",
       "      <td>0.0</td>\n",
       "    </tr>\n",
       "    <tr>\n",
       "      <th>4</th>\n",
       "      <td>0.0</td>\n",
       "      <td>0.0</td>\n",
       "      <td>0.0</td>\n",
       "      <td>0.0</td>\n",
       "      <td>0.0</td>\n",
       "      <td>0.0</td>\n",
       "      <td>0.0</td>\n",
       "      <td>0.0</td>\n",
       "      <td>0.0</td>\n",
       "      <td>0.0</td>\n",
       "      <td>...</td>\n",
       "      <td>0.0</td>\n",
       "      <td>0.0</td>\n",
       "      <td>0.0</td>\n",
       "      <td>0.0</td>\n",
       "      <td>0.0</td>\n",
       "      <td>0.0</td>\n",
       "      <td>0.0</td>\n",
       "      <td>0.0</td>\n",
       "      <td>0.0</td>\n",
       "      <td>0.0</td>\n",
       "    </tr>\n",
       "  </tbody>\n",
       "</table>\n",
       "<p>5 rows × 785 columns</p>\n",
       "</div>"
      ],
      "text/plain": [
       "     0  0.1  0.2  0.3  0.4  0.5  0.6  0.7  0.8  0.9  ...  0.639  0.640  0.641  \\\n",
       "0  0.0  0.0  0.0  0.0  0.0  0.0  0.0  0.0  0.0  0.0  ...    0.0    0.0    0.0   \n",
       "1  0.0  0.0  0.0  0.0  0.0  0.0  0.0  0.0  0.0  0.0  ...    0.0    0.0    0.0   \n",
       "2  0.0  0.0  0.0  0.0  0.0  0.0  0.0  0.0  0.0  0.0  ...    0.0    0.0    0.0   \n",
       "3  0.0  0.0  0.0  0.0  0.0  0.0  0.0  0.0  0.0  0.0  ...    0.0    0.0    0.0   \n",
       "4  0.0  0.0  0.0  0.0  0.0  0.0  0.0  0.0  0.0  0.0  ...    0.0    0.0    0.0   \n",
       "\n",
       "   0.642  0.643  0.644  0.645  0.646  0.647  0.648  \n",
       "0    0.0    0.0    0.0    0.0    0.0    0.0    0.0  \n",
       "1    0.0    0.0    0.0    0.0    0.0    0.0    0.0  \n",
       "2    0.0    0.0    0.0    0.0    0.0    0.0    0.0  \n",
       "3    0.0    0.0    0.0    0.0    0.0    0.0    0.0  \n",
       "4    0.0    0.0    0.0    0.0    0.0    0.0    0.0  \n",
       "\n",
       "[5 rows x 785 columns]"
      ]
     },
     "execution_count": 2,
     "metadata": {},
     "output_type": "execute_result"
    }
   ],
   "source": [
    "df = pd.read_csv(\"../input/az-handwritten-alphabets-in-csv-format/A_Z Handwritten Data.csv\").astype('float32')\n",
    "df.head()"
   ]
  },
  {
   "cell_type": "code",
   "execution_count": 3,
   "id": "943cdf0b",
   "metadata": {
    "execution": {
     "iopub.execute_input": "2022-08-24T13:28:37.257586Z",
     "iopub.status.busy": "2022-08-24T13:28:37.256700Z",
     "iopub.status.idle": "2022-08-24T13:28:37.981863Z",
     "shell.execute_reply": "2022-08-24T13:28:37.982443Z",
     "shell.execute_reply.started": "2022-08-24T12:49:15.956675Z"
    },
    "papermill": {
     "duration": 0.762761,
     "end_time": "2022-08-24T13:28:37.982631",
     "exception": false,
     "start_time": "2022-08-24T13:28:37.219870",
     "status": "completed"
    },
    "tags": []
   },
   "outputs": [
    {
     "name": "stdout",
     "output_type": "stream",
     "text": [
      "(372450, 784)\n"
     ]
    },
    {
     "data": {
      "text/html": [
       "<div>\n",
       "<style scoped>\n",
       "    .dataframe tbody tr th:only-of-type {\n",
       "        vertical-align: middle;\n",
       "    }\n",
       "\n",
       "    .dataframe tbody tr th {\n",
       "        vertical-align: top;\n",
       "    }\n",
       "\n",
       "    .dataframe thead th {\n",
       "        text-align: right;\n",
       "    }\n",
       "</style>\n",
       "<table border=\"1\" class=\"dataframe\">\n",
       "  <thead>\n",
       "    <tr style=\"text-align: right;\">\n",
       "      <th></th>\n",
       "      <th>0.1</th>\n",
       "      <th>0.2</th>\n",
       "      <th>0.3</th>\n",
       "      <th>0.4</th>\n",
       "      <th>0.5</th>\n",
       "      <th>0.6</th>\n",
       "      <th>0.7</th>\n",
       "      <th>0.8</th>\n",
       "      <th>0.9</th>\n",
       "      <th>0.10</th>\n",
       "      <th>...</th>\n",
       "      <th>0.639</th>\n",
       "      <th>0.640</th>\n",
       "      <th>0.641</th>\n",
       "      <th>0.642</th>\n",
       "      <th>0.643</th>\n",
       "      <th>0.644</th>\n",
       "      <th>0.645</th>\n",
       "      <th>0.646</th>\n",
       "      <th>0.647</th>\n",
       "      <th>0.648</th>\n",
       "    </tr>\n",
       "  </thead>\n",
       "  <tbody>\n",
       "    <tr>\n",
       "      <th>0</th>\n",
       "      <td>0.0</td>\n",
       "      <td>0.0</td>\n",
       "      <td>0.0</td>\n",
       "      <td>0.0</td>\n",
       "      <td>0.0</td>\n",
       "      <td>0.0</td>\n",
       "      <td>0.0</td>\n",
       "      <td>0.0</td>\n",
       "      <td>0.0</td>\n",
       "      <td>0.0</td>\n",
       "      <td>...</td>\n",
       "      <td>0.0</td>\n",
       "      <td>0.0</td>\n",
       "      <td>0.0</td>\n",
       "      <td>0.0</td>\n",
       "      <td>0.0</td>\n",
       "      <td>0.0</td>\n",
       "      <td>0.0</td>\n",
       "      <td>0.0</td>\n",
       "      <td>0.0</td>\n",
       "      <td>0.0</td>\n",
       "    </tr>\n",
       "    <tr>\n",
       "      <th>1</th>\n",
       "      <td>0.0</td>\n",
       "      <td>0.0</td>\n",
       "      <td>0.0</td>\n",
       "      <td>0.0</td>\n",
       "      <td>0.0</td>\n",
       "      <td>0.0</td>\n",
       "      <td>0.0</td>\n",
       "      <td>0.0</td>\n",
       "      <td>0.0</td>\n",
       "      <td>0.0</td>\n",
       "      <td>...</td>\n",
       "      <td>0.0</td>\n",
       "      <td>0.0</td>\n",
       "      <td>0.0</td>\n",
       "      <td>0.0</td>\n",
       "      <td>0.0</td>\n",
       "      <td>0.0</td>\n",
       "      <td>0.0</td>\n",
       "      <td>0.0</td>\n",
       "      <td>0.0</td>\n",
       "      <td>0.0</td>\n",
       "    </tr>\n",
       "    <tr>\n",
       "      <th>2</th>\n",
       "      <td>0.0</td>\n",
       "      <td>0.0</td>\n",
       "      <td>0.0</td>\n",
       "      <td>0.0</td>\n",
       "      <td>0.0</td>\n",
       "      <td>0.0</td>\n",
       "      <td>0.0</td>\n",
       "      <td>0.0</td>\n",
       "      <td>0.0</td>\n",
       "      <td>0.0</td>\n",
       "      <td>...</td>\n",
       "      <td>0.0</td>\n",
       "      <td>0.0</td>\n",
       "      <td>0.0</td>\n",
       "      <td>0.0</td>\n",
       "      <td>0.0</td>\n",
       "      <td>0.0</td>\n",
       "      <td>0.0</td>\n",
       "      <td>0.0</td>\n",
       "      <td>0.0</td>\n",
       "      <td>0.0</td>\n",
       "    </tr>\n",
       "    <tr>\n",
       "      <th>3</th>\n",
       "      <td>0.0</td>\n",
       "      <td>0.0</td>\n",
       "      <td>0.0</td>\n",
       "      <td>0.0</td>\n",
       "      <td>0.0</td>\n",
       "      <td>0.0</td>\n",
       "      <td>0.0</td>\n",
       "      <td>0.0</td>\n",
       "      <td>0.0</td>\n",
       "      <td>0.0</td>\n",
       "      <td>...</td>\n",
       "      <td>0.0</td>\n",
       "      <td>0.0</td>\n",
       "      <td>0.0</td>\n",
       "      <td>0.0</td>\n",
       "      <td>0.0</td>\n",
       "      <td>0.0</td>\n",
       "      <td>0.0</td>\n",
       "      <td>0.0</td>\n",
       "      <td>0.0</td>\n",
       "      <td>0.0</td>\n",
       "    </tr>\n",
       "    <tr>\n",
       "      <th>4</th>\n",
       "      <td>0.0</td>\n",
       "      <td>0.0</td>\n",
       "      <td>0.0</td>\n",
       "      <td>0.0</td>\n",
       "      <td>0.0</td>\n",
       "      <td>0.0</td>\n",
       "      <td>0.0</td>\n",
       "      <td>0.0</td>\n",
       "      <td>0.0</td>\n",
       "      <td>0.0</td>\n",
       "      <td>...</td>\n",
       "      <td>0.0</td>\n",
       "      <td>0.0</td>\n",
       "      <td>0.0</td>\n",
       "      <td>0.0</td>\n",
       "      <td>0.0</td>\n",
       "      <td>0.0</td>\n",
       "      <td>0.0</td>\n",
       "      <td>0.0</td>\n",
       "      <td>0.0</td>\n",
       "      <td>0.0</td>\n",
       "    </tr>\n",
       "  </tbody>\n",
       "</table>\n",
       "<p>5 rows × 784 columns</p>\n",
       "</div>"
      ],
      "text/plain": [
       "   0.1  0.2  0.3  0.4  0.5  0.6  0.7  0.8  0.9  0.10  ...  0.639  0.640  \\\n",
       "0  0.0  0.0  0.0  0.0  0.0  0.0  0.0  0.0  0.0   0.0  ...    0.0    0.0   \n",
       "1  0.0  0.0  0.0  0.0  0.0  0.0  0.0  0.0  0.0   0.0  ...    0.0    0.0   \n",
       "2  0.0  0.0  0.0  0.0  0.0  0.0  0.0  0.0  0.0   0.0  ...    0.0    0.0   \n",
       "3  0.0  0.0  0.0  0.0  0.0  0.0  0.0  0.0  0.0   0.0  ...    0.0    0.0   \n",
       "4  0.0  0.0  0.0  0.0  0.0  0.0  0.0  0.0  0.0   0.0  ...    0.0    0.0   \n",
       "\n",
       "   0.641  0.642  0.643  0.644  0.645  0.646  0.647  0.648  \n",
       "0    0.0    0.0    0.0    0.0    0.0    0.0    0.0    0.0  \n",
       "1    0.0    0.0    0.0    0.0    0.0    0.0    0.0    0.0  \n",
       "2    0.0    0.0    0.0    0.0    0.0    0.0    0.0    0.0  \n",
       "3    0.0    0.0    0.0    0.0    0.0    0.0    0.0    0.0  \n",
       "4    0.0    0.0    0.0    0.0    0.0    0.0    0.0    0.0  \n",
       "\n",
       "[5 rows x 784 columns]"
      ]
     },
     "execution_count": 3,
     "metadata": {},
     "output_type": "execute_result"
    }
   ],
   "source": [
    "df.rename(columns={'0':'label'}, inplace=True)\n",
    "X = df.drop('label', axis = 1)\n",
    "y = df['label']\n",
    "\n",
    "print(X.shape)\n",
    "X.head()"
   ]
  },
  {
   "cell_type": "code",
   "execution_count": 4,
   "id": "ebe248da",
   "metadata": {
    "execution": {
     "iopub.execute_input": "2022-08-24T13:28:38.040453Z",
     "iopub.status.busy": "2022-08-24T13:28:38.039685Z",
     "iopub.status.idle": "2022-08-24T13:28:42.011544Z",
     "shell.execute_reply": "2022-08-24T13:28:42.010902Z",
     "shell.execute_reply.started": "2022-08-24T12:49:16.435229Z"
    },
    "papermill": {
     "duration": 4.003962,
     "end_time": "2022-08-24T13:28:42.011707",
     "exception": false,
     "start_time": "2022-08-24T13:28:38.007745",
     "status": "completed"
    },
    "tags": []
   },
   "outputs": [
    {
     "data": {
      "image/png": "[encoded data removed]",
      "text/plain": [
       "<Figure size 720x720 with 9 Axes>"
      ]
     },
     "metadata": {},
     "output_type": "display_data"
    }
   ],
   "source": [
    "from sklearn.utils import shuffle\n",
    "X_Shuffled = shuffle(X)\n",
    "\n",
    "plt.figure(figsize = (10, 10))\n",
    "rows, columns = 3, 3\n",
    "\n",
    "for i in range(9):\n",
    "    plt.subplot(columns, rows, i+1)\n",
    "    plt.imshow(X_Shuffled.iloc[i].values.reshape(28,28), interpolation='nearest', cmap='Greys')\n",
    "    \n",
    "plt.show()"
   ]
  },
  {
   "cell_type": "code",
   "execution_count": 5,
   "id": "35e7ff80",
   "metadata": {
    "execution": {
     "iopub.execute_input": "2022-08-24T13:28:42.071466Z",
     "iopub.status.busy": "2022-08-24T13:28:42.070720Z",
     "iopub.status.idle": "2022-08-24T13:28:42.488916Z",
     "shell.execute_reply": "2022-08-24T13:28:42.488215Z",
     "shell.execute_reply.started": "2022-08-24T12:49:19.745083Z"
    },
    "papermill": {
     "duration": 0.451789,
     "end_time": "2022-08-24T13:28:42.489086",
     "exception": false,
     "start_time": "2022-08-24T13:28:42.037297",
     "status": "completed"
    },
    "tags": []
   },
   "outputs": [
    {
     "name": "stderr",
     "output_type": "stream",
     "text": [
      "/opt/conda/lib/python3.7/site-packages/seaborn/distributions.py:2619: FutureWarning: `distplot` is a deprecated function and will be removed in a future version. Please adapt your code to use either `displot` (a figure-level function with similar flexibility) or `histplot` (an axes-level function for histograms).\n",
      "  warnings.warn(msg, FutureWarning)\n"
     ]
    },
    {
     "data": {
      "text/plain": [
       "<AxesSubplot:xlabel='label'>"
      ]
     },
     "execution_count": 5,
     "metadata": {},
     "output_type": "execute_result"
    },
    {
     "data": {
      "image/png": "[encoded data removed]",
      "text/plain": [
       "<Figure size 1080x360 with 1 Axes>"
      ]
     },
     "metadata": {},
     "output_type": "display_data"
    }
   ],
   "source": [
    "alphabets=\"abcdefghijklmnopqrstuvwxyz\"\n",
    "letter_name=[]\n",
    "[letter_name.append(i) for i in alphabets]\n",
    "name_tag = pd.DataFrame(letter_name)\n",
    "\n",
    "plt.figure(figsize=(15,5))\n",
    "sns.distplot(y,kde=False)"
   ]
  },
  {
   "cell_type": "code",
   "execution_count": 6,
   "id": "a3619e59",
   "metadata": {
    "execution": {
     "iopub.execute_input": "2022-08-24T13:28:42.548514Z",
     "iopub.status.busy": "2022-08-24T13:28:42.547801Z",
     "iopub.status.idle": "2022-08-24T13:28:45.331278Z",
     "shell.execute_reply": "2022-08-24T13:28:45.330679Z",
     "shell.execute_reply.started": "2022-08-24T12:49:20.160700Z"
    },
    "papermill": {
     "duration": 2.814589,
     "end_time": "2022-08-24T13:28:45.331436",
     "exception": false,
     "start_time": "2022-08-24T13:28:42.516847",
     "status": "completed"
    },
    "tags": []
   },
   "outputs": [
    {
     "data": {
      "text/plain": [
       "((297960, 784), (74490, 784), (297960,), (74490,))"
      ]
     },
     "execution_count": 6,
     "metadata": {},
     "output_type": "execute_result"
    }
   ],
   "source": [
    "from sklearn.model_selection import train_test_split\n",
    "X_train, X_test, y_train, y_test = train_test_split(X, y, test_size = 0.2)\n",
    "X_train.shape, X_test.shape, y_train.shape, y_test.shape"
   ]
  },
  {
   "cell_type": "code",
   "execution_count": 7,
   "id": "060649da",
   "metadata": {
    "execution": {
     "iopub.execute_input": "2022-08-24T13:28:45.394463Z",
     "iopub.status.busy": "2022-08-24T13:28:45.393752Z",
     "iopub.status.idle": "2022-08-24T13:28:47.867449Z",
     "shell.execute_reply": "2022-08-24T13:28:47.867995Z",
     "shell.execute_reply.started": "2022-08-24T12:49:21.993333Z"
    },
    "papermill": {
     "duration": 2.50929,
     "end_time": "2022-08-24T13:28:47.868203",
     "exception": false,
     "start_time": "2022-08-24T13:28:45.358913",
     "status": "completed"
    },
    "tags": []
   },
   "outputs": [],
   "source": [
    "from sklearn.preprocessing import MinMaxScaler\n",
    "scaler = MinMaxScaler()\n",
    "scaler.fit(X_train)\n",
    "\n",
    "X_train = scaler.transform(X_train)\n",
    "X_test = scaler.transform(X_test)"
   ]
  },
  {
   "cell_type": "code",
   "execution_count": 8,
   "id": "27b7b20e",
   "metadata": {
    "execution": {
     "iopub.execute_input": "2022-08-24T13:28:47.934357Z",
     "iopub.status.busy": "2022-08-24T13:28:47.926365Z",
     "iopub.status.idle": "2022-08-24T13:28:47.939506Z",
     "shell.execute_reply": "2022-08-24T13:28:47.938940Z",
     "shell.execute_reply.started": "2022-08-24T12:49:23.645807Z"
    },
    "papermill": {
     "duration": 0.043837,
     "end_time": "2022-08-24T13:28:47.939663",
     "exception": false,
     "start_time": "2022-08-24T13:28:47.895826",
     "status": "completed"
    },
    "tags": []
   },
   "outputs": [
    {
     "data": {
      "text/html": [
       "<div>\n",
       "<style scoped>\n",
       "    .dataframe tbody tr th:only-of-type {\n",
       "        vertical-align: middle;\n",
       "    }\n",
       "\n",
       "    .dataframe tbody tr th {\n",
       "        vertical-align: top;\n",
       "    }\n",
       "\n",
       "    .dataframe thead th {\n",
       "        text-align: right;\n",
       "    }\n",
       "</style>\n",
       "<table border=\"1\" class=\"dataframe\">\n",
       "  <thead>\n",
       "    <tr style=\"text-align: right;\">\n",
       "      <th></th>\n",
       "      <th>0</th>\n",
       "    </tr>\n",
       "  </thead>\n",
       "  <tbody>\n",
       "    <tr>\n",
       "      <th>0</th>\n",
       "      <td>a</td>\n",
       "    </tr>\n",
       "    <tr>\n",
       "      <th>1</th>\n",
       "      <td>b</td>\n",
       "    </tr>\n",
       "    <tr>\n",
       "      <th>2</th>\n",
       "      <td>c</td>\n",
       "    </tr>\n",
       "    <tr>\n",
       "      <th>3</th>\n",
       "      <td>d</td>\n",
       "    </tr>\n",
       "    <tr>\n",
       "      <th>4</th>\n",
       "      <td>e</td>\n",
       "    </tr>\n",
       "    <tr>\n",
       "      <th>5</th>\n",
       "      <td>f</td>\n",
       "    </tr>\n",
       "    <tr>\n",
       "      <th>6</th>\n",
       "      <td>g</td>\n",
       "    </tr>\n",
       "    <tr>\n",
       "      <th>7</th>\n",
       "      <td>h</td>\n",
       "    </tr>\n",
       "    <tr>\n",
       "      <th>8</th>\n",
       "      <td>i</td>\n",
       "    </tr>\n",
       "    <tr>\n",
       "      <th>9</th>\n",
       "      <td>j</td>\n",
       "    </tr>\n",
       "    <tr>\n",
       "      <th>10</th>\n",
       "      <td>k</td>\n",
       "    </tr>\n",
       "    <tr>\n",
       "      <th>11</th>\n",
       "      <td>l</td>\n",
       "    </tr>\n",
       "    <tr>\n",
       "      <th>12</th>\n",
       "      <td>m</td>\n",
       "    </tr>\n",
       "    <tr>\n",
       "      <th>13</th>\n",
       "      <td>n</td>\n",
       "    </tr>\n",
       "    <tr>\n",
       "      <th>14</th>\n",
       "      <td>o</td>\n",
       "    </tr>\n",
       "    <tr>\n",
       "      <th>15</th>\n",
       "      <td>p</td>\n",
       "    </tr>\n",
       "    <tr>\n",
       "      <th>16</th>\n",
       "      <td>q</td>\n",
       "    </tr>\n",
       "    <tr>\n",
       "      <th>17</th>\n",
       "      <td>r</td>\n",
       "    </tr>\n",
       "    <tr>\n",
       "      <th>18</th>\n",
       "      <td>s</td>\n",
       "    </tr>\n",
       "    <tr>\n",
       "      <th>19</th>\n",
       "      <td>t</td>\n",
       "    </tr>\n",
       "    <tr>\n",
       "      <th>20</th>\n",
       "      <td>u</td>\n",
       "    </tr>\n",
       "    <tr>\n",
       "      <th>21</th>\n",
       "      <td>v</td>\n",
       "    </tr>\n",
       "    <tr>\n",
       "      <th>22</th>\n",
       "      <td>w</td>\n",
       "    </tr>\n",
       "    <tr>\n",
       "      <th>23</th>\n",
       "      <td>x</td>\n",
       "    </tr>\n",
       "    <tr>\n",
       "      <th>24</th>\n",
       "      <td>y</td>\n",
       "    </tr>\n",
       "    <tr>\n",
       "      <th>25</th>\n",
       "      <td>z</td>\n",
       "    </tr>\n",
       "  </tbody>\n",
       "</table>\n",
       "</div>"
      ],
      "text/plain": [
       "    0\n",
       "0   a\n",
       "1   b\n",
       "2   c\n",
       "3   d\n",
       "4   e\n",
       "5   f\n",
       "6   g\n",
       "7   h\n",
       "8   i\n",
       "9   j\n",
       "10  k\n",
       "11  l\n",
       "12  m\n",
       "13  n\n",
       "14  o\n",
       "15  p\n",
       "16  q\n",
       "17  r\n",
       "18  s\n",
       "19  t\n",
       "20  u\n",
       "21  v\n",
       "22  w\n",
       "23  x\n",
       "24  y\n",
       "25  z"
      ]
     },
     "execution_count": 8,
     "metadata": {},
     "output_type": "execute_result"
    }
   ],
   "source": [
    "alphabets=\"abcdefghijklmnopqrstuvwxyz\"\n",
    "letter_name=[]\n",
    "[letter_name.append(i) for i in alphabets]\n",
    "name_tag = pd.DataFrame(letter_name)\n",
    "\n",
    "name_tag"
   ]
  },
  {
   "cell_type": "code",
   "execution_count": 9,
   "id": "8762d9ed",
   "metadata": {
    "execution": {
     "iopub.execute_input": "2022-08-24T13:28:48.015939Z",
     "iopub.status.busy": "2022-08-24T13:28:48.003913Z",
     "iopub.status.idle": "2022-08-24T13:28:51.658774Z",
     "shell.execute_reply": "2022-08-24T13:28:51.659343Z",
     "shell.execute_reply.started": "2022-08-24T12:49:23.658651Z"
    },
    "papermill": {
     "duration": 3.691554,
     "end_time": "2022-08-24T13:28:51.659548",
     "exception": false,
     "start_time": "2022-08-24T13:28:47.967994",
     "status": "completed"
    },
    "tags": []
   },
   "outputs": [],
   "source": [
    "X_train, X_test, y_train, y_test = train_test_split(X, y, test_size=0.3, random_state=2)\n",
    "\n",
    "\n",
    "standard_scaler = MinMaxScaler()\n",
    "standard_scaler.fit(X_train)\n",
    "\n",
    "X_train = standard_scaler.transform(X_train)\n",
    "X_test = standard_scaler.transform(X_test)"
   ]
  },
  {
   "cell_type": "code",
   "execution_count": 10,
   "id": "69d4019d",
   "metadata": {
    "execution": {
     "iopub.execute_input": "2022-08-24T13:28:51.724046Z",
     "iopub.status.busy": "2022-08-24T13:28:51.723100Z",
     "iopub.status.idle": "2022-08-24T13:28:55.211866Z",
     "shell.execute_reply": "2022-08-24T13:28:55.212376Z",
     "shell.execute_reply.started": "2022-08-24T12:49:27.002951Z"
    },
    "papermill": {
     "duration": 3.524167,
     "end_time": "2022-08-24T13:28:55.212615",
     "exception": false,
     "start_time": "2022-08-24T13:28:51.688448",
     "status": "completed"
    },
    "tags": []
   },
   "outputs": [
    {
     "data": {
      "image/png": "[encoded data removed]",
      "text/plain": [
       "<Figure size 720x720 with 9 Axes>"
      ]
     },
     "metadata": {},
     "output_type": "display_data"
    }
   ],
   "source": [
    "X_Shuffled = shuffle(X)\n",
    "\n",
    "plt.figure(figsize = (10, 10))\n",
    "rows, columns = 3, 3\n",
    "\n",
    "for i in range(9):\n",
    "    plt.subplot(columns, rows, i+1)\n",
    "    plt.imshow(X_Shuffled.iloc[i].values.reshape(28,28), interpolation='nearest', cmap='Greys')\n",
    "    \n",
    "plt.show()"
   ]
  },
  {
   "cell_type": "code",
   "execution_count": 11,
   "id": "c5240685",
   "metadata": {
    "execution": {
     "iopub.execute_input": "2022-08-24T13:28:55.276073Z",
     "iopub.status.busy": "2022-08-24T13:28:55.275300Z",
     "iopub.status.idle": "2022-08-24T13:28:55.715020Z",
     "shell.execute_reply": "2022-08-24T13:28:55.715632Z",
     "shell.execute_reply.started": "2022-08-24T12:49:30.402330Z"
    },
    "papermill": {
     "duration": 0.47316,
     "end_time": "2022-08-24T13:28:55.715836",
     "exception": false,
     "start_time": "2022-08-24T13:28:55.242676",
     "status": "completed"
    },
    "tags": []
   },
   "outputs": [],
   "source": [
    "from keras.utils import np_utils\n",
    "X_train = X_train.reshape(X_train.shape[0], 28, 28, 1).astype('float32')\n",
    "X_test = X_test.reshape(X_test.shape[0], 28, 28, 1).astype('float32')\n",
    "\n",
    "y_train = np_utils.to_categorical(y_train)\n",
    "y_test = np_utils.to_categorical(y_test)"
   ]
  },
  {
   "cell_type": "code",
   "execution_count": 12,
   "id": "2ef220c1",
   "metadata": {
    "execution": {
     "iopub.execute_input": "2022-08-24T13:28:55.779347Z",
     "iopub.status.busy": "2022-08-24T13:28:55.778637Z",
     "iopub.status.idle": "2022-08-24T13:40:10.248904Z",
     "shell.execute_reply": "2022-08-24T13:40:10.249546Z",
     "shell.execute_reply.started": "2022-08-24T12:49:30.591309Z"
    },
    "papermill": {
     "duration": 674.50432,
     "end_time": "2022-08-24T13:40:10.249899",
     "exception": false,
     "start_time": "2022-08-24T13:28:55.745579",
     "status": "completed"
    },
    "tags": []
   },
   "outputs": [
    {
     "name": "stderr",
     "output_type": "stream",
     "text": [
      "2022-08-24 13:28:55.835432: I tensorflow/core/common_runtime/process_util.cc:146] Creating new thread pool with default inter op setting: 2. Tune using inter_op_parallelism_threads for best performance.\n",
      "2022-08-24 13:28:58.392361: I tensorflow/compiler/mlir/mlir_graph_optimization_pass.cc:185] None of the MLIR Optimization Passes are enabled (registered 2)\n"
     ]
    },
    {
     "name": "stdout",
     "output_type": "stream",
     "text": [
      "Epoch 1/16\n",
      "1304/1304 - 44s - loss: 0.2469 - accuracy: 0.9313 - val_loss: 0.1011 - val_accuracy: 0.9723\n",
      "Epoch 2/16\n",
      "1304/1304 - 41s - loss: 0.0934 - accuracy: 0.9735 - val_loss: 0.0709 - val_accuracy: 0.9807\n",
      "Epoch 3/16\n",
      "1304/1304 - 40s - loss: 0.0702 - accuracy: 0.9797 - val_loss: 0.0599 - val_accuracy: 0.9844\n",
      "Epoch 4/16\n",
      "1304/1304 - 41s - loss: 0.0574 - accuracy: 0.9834 - val_loss: 0.0568 - val_accuracy: 0.9853\n",
      "Epoch 5/16\n",
      "1304/1304 - 42s - loss: 0.0488 - accuracy: 0.9859 - val_loss: 0.0509 - val_accuracy: 0.9872\n",
      "Epoch 6/16\n",
      "1304/1304 - 41s - loss: 0.0410 - accuracy: 0.9877 - val_loss: 0.0495 - val_accuracy: 0.9884\n",
      "Epoch 7/16\n",
      "1304/1304 - 43s - loss: 0.0355 - accuracy: 0.9890 - val_loss: 0.0468 - val_accuracy: 0.9897\n",
      "Epoch 8/16\n",
      "1304/1304 - 43s - loss: 0.0305 - accuracy: 0.9905 - val_loss: 0.0457 - val_accuracy: 0.9906\n",
      "Epoch 9/16\n",
      "1304/1304 - 41s - loss: 0.0270 - accuracy: 0.9914 - val_loss: 0.0464 - val_accuracy: 0.9913\n",
      "Epoch 10/16\n",
      "1304/1304 - 42s - loss: 0.0236 - accuracy: 0.9923 - val_loss: 0.0487 - val_accuracy: 0.9912\n",
      "Epoch 11/16\n",
      "1304/1304 - 42s - loss: 0.0209 - accuracy: 0.9930 - val_loss: 0.0478 - val_accuracy: 0.9918\n",
      "Epoch 12/16\n",
      "1304/1304 - 41s - loss: 0.0189 - accuracy: 0.9936 - val_loss: 0.0490 - val_accuracy: 0.9919\n",
      "Epoch 13/16\n",
      "1304/1304 - 41s - loss: 0.0175 - accuracy: 0.9942 - val_loss: 0.0510 - val_accuracy: 0.9918\n",
      "Epoch 14/16\n",
      "1304/1304 - 47s - loss: 0.0166 - accuracy: 0.9946 - val_loss: 0.0492 - val_accuracy: 0.9930\n",
      "Epoch 15/16\n",
      "1304/1304 - 41s - loss: 0.0146 - accuracy: 0.9951 - val_loss: 0.0538 - val_accuracy: 0.9924\n",
      "Epoch 16/16\n",
      "1304/1304 - 41s - loss: 0.0136 - accuracy: 0.9954 - val_loss: 0.0565 - val_accuracy: 0.9926\n"
     ]
    }
   ],
   "source": [
    "model = Sequential()\n",
    "\n",
    "model.add(Conv2D(32, (5, 5), input_shape=(28, 28, 1), activation='relu'))\n",
    "model.add(MaxPooling2D(pool_size=(2, 2)))\n",
    "model.add(Dropout(0.3))\n",
    "model.add(Flatten())\n",
    "\n",
    "model.add(Dense(128, activation='relu'))\n",
    "model.add(Dense(len(y.unique()), activation='softmax'))\n",
    "\n",
    "model.compile(loss='categorical_crossentropy', optimizer='adam', metrics=['accuracy'])\n",
    "history = model.fit(X_train, y_train, validation_data=(X_test, y_test), epochs=16, batch_size=200, verbose=2)"
   ]
  },
  {
   "cell_type": "code",
   "execution_count": 13,
   "id": "ea6cfef7",
   "metadata": {
    "execution": {
     "iopub.execute_input": "2022-08-24T13:40:10.335856Z",
     "iopub.status.busy": "2022-08-24T13:40:10.335185Z",
     "iopub.status.idle": "2022-08-24T13:40:10.625046Z",
     "shell.execute_reply": "2022-08-24T13:40:10.625607Z",
     "shell.execute_reply.started": "2022-08-24T13:01:26.351252Z"
    },
    "papermill": {
     "duration": 0.334949,
     "end_time": "2022-08-24T13:40:10.625802",
     "exception": false,
     "start_time": "2022-08-24T13:40:10.290853",
     "status": "completed"
    },
    "tags": []
   },
   "outputs": [
    {
     "data": {
      "image/png": "[encoded data removed]",
      "text/plain": [
       "<Figure size 432x288 with 1 Axes>"
      ]
     },
     "metadata": {},
     "output_type": "display_data"
    }
   ],
   "source": [
    "plt.plot(history.history['loss'])\n",
    "plt.plot(history.history['val_loss'])\n",
    "plt.title('MODEL LOSS')\n",
    "plt.ylabel('Loss')\n",
    "plt.xlabel('Epoch')\n",
    "plt.legend(['Train', 'Test'], loc='upper right')\n",
    "plt.show()"
   ]
  },
  {
   "cell_type": "code",
   "execution_count": 14,
   "id": "d7acf1f0",
   "metadata": {
    "execution": {
     "iopub.execute_input": "2022-08-24T13:40:10.729999Z",
     "iopub.status.busy": "2022-08-24T13:40:10.718465Z",
     "iopub.status.idle": "2022-08-24T13:40:10.989442Z",
     "shell.execute_reply": "2022-08-24T13:40:10.990036Z",
     "shell.execute_reply.started": "2022-08-24T13:01:26.628242Z"
    },
    "papermill": {
     "duration": 0.320401,
     "end_time": "2022-08-24T13:40:10.990242",
     "exception": false,
     "start_time": "2022-08-24T13:40:10.669841",
     "status": "completed"
    },
    "tags": []
   },
   "outputs": [
    {
     "data": {
      "text/plain": [
       "<matplotlib.image.AxesImage at 0x7fbfd67bc8d0>"
      ]
     },
     "execution_count": 14,
     "metadata": {},
     "output_type": "execute_result"
    },
    {
     "data": {
      "image/png": "[encoded data removed]",
      "text/plain": [
       "<Figure size 432x288 with 1 Axes>"
      ]
     },
     "metadata": {},
     "output_type": "display_data"
    }
   ],
   "source": [
    "plt.imshow(X_test[[18]].reshape(28,28),cmap='Greys')"
   ]
  },
  {
   "cell_type": "code",
   "execution_count": 15,
   "id": "18cb00e3",
   "metadata": {
    "execution": {
     "iopub.execute_input": "2022-08-24T13:40:11.085489Z",
     "iopub.status.busy": "2022-08-24T13:40:11.084724Z",
     "iopub.status.idle": "2022-08-24T13:40:11.252233Z",
     "shell.execute_reply": "2022-08-24T13:40:11.251544Z",
     "shell.execute_reply.started": "2022-08-24T13:01:26.893741Z"
    },
    "papermill": {
     "duration": 0.217231,
     "end_time": "2022-08-24T13:40:11.252408",
     "exception": false,
     "start_time": "2022-08-24T13:40:11.035177",
     "status": "completed"
    },
    "tags": []
   },
   "outputs": [
    {
     "name": "stdout",
     "output_type": "stream",
     "text": [
      "[[2.5228219e-20 2.9556418e-14 4.9993020e-08 3.7788124e-09 1.4671744e-16\n",
      "  1.2994424e-24 7.6752617e-14 5.3389696e-24 1.9208911e-24 1.5955012e-11\n",
      "  4.1842957e-24 5.6724523e-24 7.4366131e-24 2.0489490e-15 9.9999988e-01\n",
      "  9.5845172e-11 6.4570888e-12 2.4163650e-20 2.2961581e-08 5.3057503e-14\n",
      "  1.0114941e-08 3.9559380e-29 9.5811012e-22 8.8626452e-25 1.8271196e-12\n",
      "  7.6675714e-20]]\n"
     ]
    },
    {
     "data": {
      "text/plain": [
       "100.0"
      ]
     },
     "execution_count": 15,
     "metadata": {},
     "output_type": "execute_result"
    }
   ],
   "source": [
    "prediction = model.predict(X_test[[18]]) \n",
    "print(prediction)\n",
    "score = np.argmax(prediction)\n",
    "score = prediction[0,score]\n",
    "score = round((score*100), 4)\n",
    "\n",
    "score"
   ]
  },
  {
   "cell_type": "code",
   "execution_count": 16,
   "id": "a2a953ed",
   "metadata": {
    "execution": {
     "iopub.execute_input": "2022-08-24T13:40:11.345413Z",
     "iopub.status.busy": "2022-08-24T13:40:11.344436Z",
     "iopub.status.idle": "2022-08-24T13:40:11.623959Z",
     "shell.execute_reply": "2022-08-24T13:40:11.623338Z",
     "shell.execute_reply.started": "2022-08-24T13:01:27.095238Z"
    },
    "papermill": {
     "duration": 0.327042,
     "end_time": "2022-08-24T13:40:11.624112",
     "exception": false,
     "start_time": "2022-08-24T13:40:11.297070",
     "status": "completed"
    },
    "tags": []
   },
   "outputs": [
    {
     "data": {
      "text/plain": [
       "<matplotlib.image.AxesImage at 0x7fbfd66e8c90>"
      ]
     },
     "execution_count": 16,
     "metadata": {},
     "output_type": "execute_result"
    },
    {
     "data": {
      "image/png": "[encoded data removed]",
      "text/plain": [
       "<Figure size 432x288 with 1 Axes>"
      ]
     },
     "metadata": {},
     "output_type": "display_data"
    }
   ],
   "source": [
    "plt.imshow(X_test[[19]].reshape(28,28),cmap='Greys')"
   ]
  },
  {
   "cell_type": "code",
   "execution_count": 17,
   "id": "e5622248",
   "metadata": {
    "execution": {
     "iopub.execute_input": "2022-08-24T13:40:11.719286Z",
     "iopub.status.busy": "2022-08-24T13:40:11.718569Z",
     "iopub.status.idle": "2022-08-24T13:40:11.788362Z",
     "shell.execute_reply": "2022-08-24T13:40:11.788937Z",
     "shell.execute_reply.started": "2022-08-24T13:01:27.355110Z"
    },
    "papermill": {
     "duration": 0.119601,
     "end_time": "2022-08-24T13:40:11.789140",
     "exception": false,
     "start_time": "2022-08-24T13:40:11.669539",
     "status": "completed"
    },
    "tags": []
   },
   "outputs": [
    {
     "name": "stdout",
     "output_type": "stream",
     "text": [
      "[[9.1127975e-28 1.0000000e+00 1.8920671e-20 2.2039845e-17 3.7315970e-17\n",
      "  7.9430042e-24 8.1356898e-14 2.1531900e-19 3.8130370e-20 3.2518839e-13\n",
      "  4.9785638e-21 1.2574125e-25 9.8517910e-33 7.0266735e-25 5.8737563e-19\n",
      "  7.1614142e-16 6.5874258e-22 4.6209004e-16 2.0137053e-14 5.4757127e-20\n",
      "  6.5274355e-16 1.9155355e-31 3.2560955e-26 2.3611785e-16 1.2262437e-17\n",
      "  5.5116100e-13]]\n"
     ]
    },
    {
     "data": {
      "text/plain": [
       "100.0"
      ]
     },
     "execution_count": 17,
     "metadata": {},
     "output_type": "execute_result"
    }
   ],
   "source": [
    "prediction = model.predict(X_test[[19]]) \n",
    "print(prediction)\n",
    "score = np.argmax(prediction)\n",
    "score = prediction[0,score]\n",
    "score = round((score*100), 4)\n",
    "\n",
    "score"
   ]
  },
  {
   "cell_type": "code",
   "execution_count": 18,
   "id": "df477df1",
   "metadata": {
    "execution": {
     "iopub.execute_input": "2022-08-24T13:40:11.887426Z",
     "iopub.status.busy": "2022-08-24T13:40:11.886642Z",
     "iopub.status.idle": "2022-08-24T13:40:11.894240Z",
     "shell.execute_reply": "2022-08-24T13:40:11.894823Z",
     "shell.execute_reply.started": "2022-08-24T13:02:15.674459Z"
    },
    "papermill": {
     "duration": 0.058371,
     "end_time": "2022-08-24T13:40:11.895013",
     "exception": false,
     "start_time": "2022-08-24T13:40:11.836642",
     "status": "completed"
    },
    "tags": []
   },
   "outputs": [],
   "source": [
    "def result(pred):\n",
    "    alphabets=\"abcdefghijklmnopqrstuvwxyz\"\n",
    "    list1=[]\n",
    "    [list1.append(i) for i in range(26)]\n",
    "    list2=[]\n",
    "    [list2.append(i) for i in alphabets]\n",
    "    dic = dict(zip(list1, list2))\n",
    "    score = np.argmax(pred)\n",
    "    score = pred[0,score]\n",
    "    score = round((score*100), 4)\n",
    "\n",
    "    print(\"Prediction: \",dic[np.argmax(pred)], \"Score: \", score)\n"
   ]
  },
  {
   "cell_type": "code",
   "execution_count": 19,
   "id": "872f6ce4",
   "metadata": {
    "execution": {
     "iopub.execute_input": "2022-08-24T13:40:11.992182Z",
     "iopub.status.busy": "2022-08-24T13:40:11.991351Z",
     "iopub.status.idle": "2022-08-24T13:40:11.998019Z",
     "shell.execute_reply": "2022-08-24T13:40:11.997469Z",
     "shell.execute_reply.started": "2022-08-24T13:02:17.288167Z"
    },
    "papermill": {
     "duration": 0.05612,
     "end_time": "2022-08-24T13:40:11.998186",
     "exception": false,
     "start_time": "2022-08-24T13:40:11.942066",
     "status": "completed"
    },
    "tags": []
   },
   "outputs": [
    {
     "name": "stdout",
     "output_type": "stream",
     "text": [
      "Prediction:  b Score:  100.0\n"
     ]
    }
   ],
   "source": [
    "result(prediction)"
   ]
  },
  {
   "cell_type": "code",
   "execution_count": 20,
   "id": "98f71114",
   "metadata": {
    "execution": {
     "iopub.execute_input": "2022-08-24T13:40:12.100073Z",
     "iopub.status.busy": "2022-08-24T13:40:12.099076Z",
     "iopub.status.idle": "2022-08-24T13:40:12.101813Z",
     "shell.execute_reply": "2022-08-24T13:40:12.101144Z",
     "shell.execute_reply.started": "2022-08-24T13:02:18.098151Z"
    },
    "papermill": {
     "duration": 0.056405,
     "end_time": "2022-08-24T13:40:12.101979",
     "exception": false,
     "start_time": "2022-08-24T13:40:12.045574",
     "status": "completed"
    },
    "tags": []
   },
   "outputs": [],
   "source": [
    "def sort_contours(cnts, method=\"left-to-right\"):\n",
    "    reverse = False\n",
    "    i = 0\n",
    "    if method == \"right-to-left\" or method == \"bottom-to-top\":\n",
    "        reverse = True\n",
    "    if method == \"top-to-bottom\" or method == \"bottom-to-top\":\n",
    "        i = 1\n",
    "    boundingBoxes = [cv2.boundingRect(c) for c in cnts]\n",
    "    (cnts, boundingBoxes) = zip(*sorted(zip(cnts, boundingBoxes),\n",
    "    key=lambda b:b[1][i], reverse=reverse))\n",
    "    return (cnts, boundingBoxes)"
   ]
  },
  {
   "cell_type": "code",
   "execution_count": 21,
   "id": "35a8e5af",
   "metadata": {
    "execution": {
     "iopub.execute_input": "2022-08-24T13:40:12.202541Z",
     "iopub.status.busy": "2022-08-24T13:40:12.201701Z",
     "iopub.status.idle": "2022-08-24T13:40:28.255088Z",
     "shell.execute_reply": "2022-08-24T13:40:28.254441Z",
     "shell.execute_reply.started": "2022-08-24T13:02:20.628000Z"
    },
    "papermill": {
     "duration": 16.105166,
     "end_time": "2022-08-24T13:40:28.255266",
     "exception": false,
     "start_time": "2022-08-24T13:40:12.150100",
     "status": "completed"
    },
    "tags": []
   },
   "outputs": [
    {
     "name": "stdout",
     "output_type": "stream",
     "text": [
      "Collecting imutils\r\n",
      "  Downloading imutils-0.5.4.tar.gz (17 kB)\r\n",
      "  Preparing metadata (setup.py) ... \u001b[?25l-\b \bdone\r\n",
      "\u001b[?25hBuilding wheels for collected packages: imutils\r\n",
      "  Building wheel for imutils (setup.py) ... \u001b[?25l-\b \b\\\b \bdone\r\n",
      "\u001b[?25h  Created wheel for imutils: filename=imutils-0.5.4-py3-none-any.whl size=25860 sha256=e5c0db6a3e1d3a99613415481aa26c5a03ea959dfb0b7a89e517421d75cd9700\r\n",
      "  Stored in directory: /root/.cache/pip/wheels/86/d7/0a/4923351ed1cec5d5e24c1eaf8905567b02a0343b24aa873df2\r\n",
      "Successfully built imutils\r\n",
      "Installing collected packages: imutils\r\n",
      "Successfully installed imutils-0.5.4\r\n",
      "\u001b[33mWARNING: Running pip as the 'root' user can result in broken permissions and conflicting behaviour with the system package manager. It is recommended to use a virtual environment instead: https://pip.pypa.io/warnings/venv\u001b[0m\r\n",
      "Note: you may need to restart the kernel to use updated packages.\n"
     ]
    }
   ],
   "source": [
    "pip install imutils"
   ]
  },
  {
   "cell_type": "code",
   "execution_count": 22,
   "id": "f31cb629",
   "metadata": {
    "execution": {
     "iopub.execute_input": "2022-08-24T13:40:28.378415Z",
     "iopub.status.busy": "2022-08-24T13:40:28.377604Z",
     "iopub.status.idle": "2022-08-24T13:40:28.757661Z",
     "shell.execute_reply": "2022-08-24T13:40:28.756858Z",
     "shell.execute_reply.started": "2022-08-24T13:04:27.919239Z"
    },
    "papermill": {
     "duration": 0.450592,
     "end_time": "2022-08-24T13:40:28.757826",
     "exception": false,
     "start_time": "2022-08-24T13:40:28.307234",
     "status": "completed"
    },
    "tags": []
   },
   "outputs": [],
   "source": [
    "import imutils\n",
    "import cv2\n",
    "import numpy as np\n",
    "def final(img):\n",
    "    letters = []\n",
    "    image = cv2.imread(img)\n",
    "    gray = cv2.cvtColor(image, cv2.COLOR_BGR2GRAY)\n",
    "    plt.imshow(gray)\n",
    "    plt.show()\n",
    "    ret,thresh1 = cv2.threshold(gray ,127,255,cv2.THRESH_BINARY_INV)\n",
    "    dilated = cv2.dilate(thresh1, None, iterations=2)\n",
    "\n",
    "    cnts = cv2.findContours(dilated.copy(), cv2.RETR_EXTERNAL,cv2.CHAIN_APPROX_SIMPLE)\n",
    "    cnts = imutils.grab_contours(cnts)\n",
    "    cnts = sort_contours(cnts, method=\"left-to-right\")[0]\n",
    "    for c in cnts:\n",
    "\n",
    "        if cv2.contourArea(c) > 10:\n",
    "            (x, y, w, h) = cv2.boundingRect(c)\n",
    "            cv2.rectangle(image, (x, y), (x + w, y + h), (0, 255, 0), 2)\n",
    "        roi = gray[y:y + h, x:x + w]\n",
    "        thresh = cv2.threshold(roi, 0, 255,cv2.THRESH_BINARY_INV | cv2.THRESH_OTSU)[1]\n",
    "        thresh = cv2.resize(thresh, (28, 28), interpolation = cv2.INTER_CUBIC)\n",
    "        thresh = thresh.astype(\"float32\") / 255.0\n",
    "        thresh = np.expand_dims(thresh, axis=-1)\n",
    "        thresh = thresh.reshape(1,28,28,1)\n",
    "        ypred = model.predict(thresh)\n",
    "\n",
    "        result(ypred)\n",
    "\n",
    "    plt.imshow(image)"
   ]
  },
  {
   "cell_type": "code",
   "execution_count": 23,
   "id": "601e746d",
   "metadata": {
    "execution": {
     "iopub.execute_input": "2022-08-24T13:40:28.864608Z",
     "iopub.status.busy": "2022-08-24T13:40:28.863683Z",
     "iopub.status.idle": "2022-08-24T13:40:29.742468Z",
     "shell.execute_reply": "2022-08-24T13:40:29.741854Z",
     "shell.execute_reply.started": "2022-08-24T13:27:05.289139Z"
    },
    "papermill": {
     "duration": 0.934296,
     "end_time": "2022-08-24T13:40:29.742637",
     "exception": false,
     "start_time": "2022-08-24T13:40:28.808341",
     "status": "completed"
    },
    "tags": []
   },
   "outputs": [
    {
     "data": {
      "image/png": "[encoded data removed]",
      "text/plain": [
       "<Figure size 432x288 with 1 Axes>"
      ]
     },
     "metadata": {},
     "output_type": "display_data"
    },
    {
     "name": "stdout",
     "output_type": "stream",
     "text": [
      "Prediction:  b Score:  100.0\n",
      "Prediction:  e Score:  99.9984\n",
      "Prediction:  v Score:  59.1225\n",
      "Prediction:  e Score:  100.0\n",
      "Prediction:  s Score:  100.0\n"
     ]
    },
    {
     "data": {
      "image/png": "[encoded data removed]",
      "text/plain": [
       "<Figure size 432x288 with 1 Axes>"
      ]
     },
     "metadata": {},
     "output_type": "display_data"
    }
   ],
   "source": [
    "final('../input/samplesss/test_0001.jpg')"
   ]
  }
 ],
 "metadata": {
  "kernelspec": {
   "display_name": "Python 3",
   "language": "python",
   "name": "python3"
  },
  "language_info": {
   "codemirror_mode": {
    "name": "ipython",
    "version": 3
   },
   "file_extension": ".py",
   "mimetype": "text/x-python",
   "name": "python",
   "nbconvert_exporter": "python",
   "pygments_lexer": "ipython3",
   "version": "3.7.12"
  },
  "papermill": {
   "default_parameters": {},
   "duration": 778.550949,
   "end_time": "2022-08-24T13:40:33.450469",
   "environment_variables": {},
   "exception": null,
   "input_path": "__notebook__.ipynb",
   "output_path": "__notebook__.ipynb",
   "parameters": {},
   "start_time": "2022-08-24T13:27:34.899520",
   "version": "2.3.3"
  }
 },
 "nbformat": 4,
 "nbformat_minor": 5
}
